{
 "cells": [
  {
   "cell_type": "code",
   "execution_count": null,
   "id": "aa3d56dc-5109-4412-a5ae-e28d56836019",
   "metadata": {},
   "outputs": [],
   "source": []
  },
  {
   "cell_type": "code",
   "execution_count": 1,
   "id": "c85f5fea-0f78-4b1c-aec3-edb968ea01ac",
   "metadata": {},
   "outputs": [
    {
     "name": "stdout",
     "output_type": "stream",
     "text": [
      "[2002, 2009, 2016, 2023, 2037, 2044, 2051, 2058, 2072, 2079, 2086, 2093, 2107, 2114, 2121, 2128, 2142, 2149, 2156, 2163, 2177, 2184, 2191, 2198, 2212, 2219, 2226, 2233, 2247, 2254, 2261, 2268, 2282, 2289, 2296, 2303, 2317, 2324, 2331, 2338, 2352, 2359, 2366, 2373, 2387, 2394, 2401, 2408, 2422, 2429, 2436, 2443, 2457, 2464, 2471, 2478, 2492, 2499, 2506, 2513, 2527, 2534, 2541, 2548, 2562, 2569, 2576, 2583, 2597, 2604, 2611, 2618, 2632, 2639, 2646, 2653, 2667, 2674, 2681, 2688, 2702, 2709, 2716, 2723, 2737, 2744, 2751, 2758, 2772, 2779, 2786, 2793, 2807, 2814, 2821, 2828, 2842, 2849, 2856, 2863, 2877, 2884, 2891, 2898, 2912, 2919, 2926, 2933, 2947, 2954, 2961, 2968, 2982, 2989, 2996, 3003, 3017, 3024, 3031, 3038, 3052, 3059, 3066, 3073, 3087, 3094, 3101, 3108, 3122, 3129, 3136, 3143, 3157, 3164, 3171, 3178, 3192, 3199]\n"
     ]
    }
   ],
   "source": [
    "#Q1: Divisibility Filter\n",
    "\n",
    "def div_fil():\n",
    "    list1=[]\n",
    "    for i in range(2000,3201):\n",
    "        if i%7==0 and i%5!=0:\n",
    "            list1.append(i)\n",
    "    print(list1)\n",
    "\n",
    "div_fil()"
   ]
  },
  {
   "cell_type": "code",
   "execution_count": 5,
   "id": "775d6b7a-ae70-494b-b67b-00af507bea3e",
   "metadata": {},
   "outputs": [
    {
     "name": "stdout",
     "output_type": "stream",
     "text": [
      "40320\n"
     ]
    }
   ],
   "source": [
    "#Q2: Factorial Calculation\n",
    "\n",
    "def fact(n):\n",
    "    prod=1\n",
    "    for i in range(1,n+1):\n",
    "        prod=prod*i\n",
    "    print(prod)\n",
    "\n",
    "fact(8)"
   ]
  },
  {
   "cell_type": "code",
   "execution_count": 6,
   "id": "774b2a2b-031a-431b-bd56-129a6a14672b",
   "metadata": {},
   "outputs": [
    {
     "name": "stdout",
     "output_type": "stream",
     "text": [
      "{1: 1, 2: 4, 3: 9, 4: 16, 5: 25}\n"
     ]
    }
   ],
   "source": [
    "#Q3: Dictionary of Squares\n",
    "\n",
    "def sqr_dict(n):\n",
    "    dict1={}\n",
    "    for i in range(1,n+1):\n",
    "        dict1[i]=i**2\n",
    "    print(dict1)\n",
    "\n",
    "sqr_dict(5)"
   ]
  },
  {
   "cell_type": "code",
   "execution_count": 15,
   "id": "90f98d75-c6e0-4c97-9307-7c2b066f1ff2",
   "metadata": {},
   "outputs": [
    {
     "name": "stdin",
     "output_type": "stream",
     "text": [
      "enter your comma sep. values.. 10,5,6,9,3\n"
     ]
    },
    {
     "name": "stdout",
     "output_type": "stream",
     "text": [
      "[10, 5, 6, 9, 3] \n",
      " (10, 5, 6, 9, 3)\n"
     ]
    }
   ],
   "source": [
    "#Q4: List and Tuple Generator\n",
    "\n",
    "def lst_tpl_gen(n):\n",
    "    lst1=[]\n",
    "    for i in n.split(','):\n",
    "        lst1.append(int(i))\n",
    "    tpl1=tuple(lst1)\n",
    "    print(lst1,'\\n',tpl1)\n",
    "\n",
    "lst_tpl_gen(n=input('enter your comma sep. values..'))"
   ]
  },
  {
   "cell_type": "code",
   "execution_count": 20,
   "id": "7c66f7d7-813a-4784-9990-79195ab063ea",
   "metadata": {},
   "outputs": [
    {
     "data": {
      "text/plain": [
       "'THIS IS MY STRING'"
      ]
     },
     "execution_count": 20,
     "metadata": {},
     "output_type": "execute_result"
    }
   ],
   "source": [
    "#Q5: Simple Class Definition\n",
    "\n",
    "class simple:\n",
    "    def get_str(self,n):\n",
    "        self.n=n\n",
    "    \n",
    "    def print_str(self):\n",
    "        return self.n.upper()\n",
    "\n",
    "s = simple()\n",
    "s.get_str(\"This is my string\")\n",
    "s.print_str()"
   ]
  },
  {
   "cell_type": "code",
   "execution_count": 24,
   "id": "b444d2f8-1572-4e28-bd1b-60767660da60",
   "metadata": {},
   "outputs": [
    {
     "name": "stdout",
     "output_type": "stream",
     "text": [
      "25\n"
     ]
    },
    {
     "data": {
      "text/plain": [
       "4"
      ]
     },
     "execution_count": 24,
     "metadata": {},
     "output_type": "execute_result"
    }
   ],
   "source": [
    "#Q6: Method to Calculate Square\n",
    "class sqr:\n",
    "    def square(self,n):\n",
    "        return n**2\n",
    "\n",
    "s=sqr()\n",
    "print(s.square(5))\n",
    "s.square(2)"
   ]
  },
  {
   "cell_type": "code",
   "execution_count": 42,
   "id": "4e323ba3-6a6d-4cf7-bd08-43a552e3a164",
   "metadata": {},
   "outputs": [
    {
     "name": "stdout",
     "output_type": "stream",
     "text": [
      "Return the absolute value of the argument. \n",
      "----------------------------\n",
      " int([x]) -> integer\n",
      "int(x, base=10) -> integer\n",
      "\n",
      "Convert a number or string to an integer, or return 0 if no arguments\n",
      "are given.  If x is a number, return x.__int__().  For floating point\n",
      "numbers, this truncates towards zero.\n",
      "\n",
      "If x is not a number or if base is given, then x must be a string,\n",
      "bytes, or bytearray instance representing an integer literal in the\n",
      "given base.  The literal can be preceded by '+' or '-' and be surrounded\n",
      "by whitespace.  The base defaults to 10.  Valid bases are 0 and 2-36.\n",
      "Base 0 means to interpret the base from the string as an integer literal.\n",
      ">>> int('0b100', base=0)\n",
      "4\n"
     ]
    }
   ],
   "source": [
    "#Q7: Documenting Functions\n",
    "\n",
    "def doc_str():\n",
    "    int_str=''\n",
    "    abs_str=''\n",
    "    int_str+=int.__doc__\n",
    "    abs_str+=abs.__doc__\n",
    "    print(abs_str,'\\n----------------------------\\n',int_str)\n",
    "    #print(int_str)\n",
    "    \n",
    "\n",
    "doc_str()"
   ]
  },
  {
   "cell_type": "code",
   "execution_count": 47,
   "id": "3499b399-4beb-4cf9-9d19-50c83cb4d348",
   "metadata": {},
   "outputs": [
    {
     "name": "stdout",
     "output_type": "stream",
     "text": [
      "the name is of class variable: Jack\n",
      "the name is of instance variable: Oggy\n"
     ]
    }
   ],
   "source": [
    "#Q8: Class and Instance Parameters\n",
    "\n",
    "class one:\n",
    "    fname = \"Jack\"\n",
    "    def __init__(self,name):\n",
    "        self.name=name\n",
    "\n",
    "    def prints(self):\n",
    "        print(f\"the name is of class variable: {one.fname}\")\n",
    "        print(f\"the name is of instance variable: {self.name}\")\n",
    "\n",
    "c = one('Oggy')\n",
    "c.prints()"
   ]
  },
  {
   "cell_type": "code",
   "execution_count": 48,
   "id": "14c051e8-cd17-48ad-a3b0-40cf68d08603",
   "metadata": {},
   "outputs": [
    {
     "data": {
      "text/plain": [
       "15"
      ]
     },
     "execution_count": 48,
     "metadata": {},
     "output_type": "execute_result"
    }
   ],
   "source": [
    "#Q56: Basic Function Sum\n",
    "\n",
    "def basic_sum(num1,num2):\n",
    "    result=num1+num2\n",
    "    return result\n",
    "\n",
    "basic_sum(10,5)"
   ]
  },
  {
   "cell_type": "code",
   "execution_count": 59,
   "id": "040db467-4241-4cf0-b902-568cafdc4428",
   "metadata": {},
   "outputs": [
    {
     "data": {
      "text/plain": [
       "'50'"
      ]
     },
     "execution_count": 59,
     "metadata": {},
     "output_type": "execute_result"
    }
   ],
   "source": [
    "#Q57: Integer to String Conversion\n",
    "\n",
    "def int_to_str(n):\n",
    "    return str(n)\n",
    "\n",
    "int_to_str(50)"
   ]
  },
  {
   "cell_type": "code",
   "execution_count": 61,
   "id": "2b8272fc-15c2-49d2-955c-21a4e689e0d4",
   "metadata": {},
   "outputs": [
    {
     "name": "stdin",
     "output_type": "stream",
     "text": [
      "enter your first string gian\n",
      "enter your second string 43\n"
     ]
    },
    {
     "data": {
      "text/plain": [
       "'gian43'"
      ]
     },
     "execution_count": 61,
     "metadata": {},
     "output_type": "execute_result"
    }
   ],
   "source": [
    "#Q58: String Concatenation\n",
    "\n",
    "def str_concat(str1,str2):\n",
    "    result = str1+str2\n",
    "    return result\n",
    "\n",
    "s1=input('enter your first string')\n",
    "s2=input('enter your second string')\n",
    "str_concat(s1,s2)"
   ]
  },
  {
   "cell_type": "code",
   "execution_count": 67,
   "id": "94072015-cc88-4fb1-b37e-fb124bfe6e8e",
   "metadata": {},
   "outputs": [
    {
     "name": "stdin",
     "output_type": "stream",
     "text": [
      "enter your first string: hello\n",
      "enter your second string: tim\n"
     ]
    },
    {
     "name": "stdout",
     "output_type": "stream",
     "text": [
      "hello\n"
     ]
    }
   ],
   "source": [
    "#Q59: Length Comparison and Printing\n",
    "\n",
    "def len_compare(str1,str2):\n",
    "    if len(str1)>len(str2):\n",
    "        print(str1)\n",
    "    elif len(str1)==len(str2):\n",
    "        print(str1,'\\n',str2)\n",
    "    else:\n",
    "        print(str2)\n",
    "s1=input('enter your first string:')\n",
    "s2=input('enter your second string:')\n",
    "len_compare(s1,s2)"
   ]
  },
  {
   "cell_type": "code",
   "execution_count": 78,
   "id": "a6d50251-d0d2-4b74-8186-efb88cef28e5",
   "metadata": {},
   "outputs": [
    {
     "name": "stdin",
     "output_type": "stream",
     "text": [
      "enter your value 1\n"
     ]
    },
    {
     "name": "stdout",
     "output_type": "stream",
     "text": [
      "the number is odd\n"
     ]
    }
   ],
   "source": [
    "#Q60: Even or Odd Checker\n",
    "\n",
    "def checkValue(n):\n",
    "    if n==0:\n",
    "        print('ZERO')\n",
    "    elif n%2==0:\n",
    "        print('the number is even')\n",
    "    else:\n",
    "        print('the number is odd')\n",
    "\n",
    "checkValue(int(input('enter your value')))"
   ]
  },
  {
   "cell_type": "code",
   "execution_count": 79,
   "id": "363c9f78-0ca5-408c-a5b8-7cc0ddcc2eed",
   "metadata": {},
   "outputs": [
    {
     "name": "stdout",
     "output_type": "stream",
     "text": [
      "{1: 1, 2: 4, 3: 9}\n"
     ]
    }
   ],
   "source": [
    "#Q61: Dictionary of Squares (1 to 3)\n",
    "\n",
    "def dict_of_srqs():\n",
    "    dict1={}\n",
    "    for i in range(1,4):\n",
    "        dict1[i]=i**2\n",
    "    print(dict1)\n",
    "\n",
    "dict_of_srqs()"
   ]
  },
  {
   "cell_type": "code",
   "execution_count": 6,
   "id": "a4c2bb7d-8ca4-46a4-bdc3-9f5713ce358d",
   "metadata": {},
   "outputs": [
    {
     "name": "stdout",
     "output_type": "stream",
     "text": [
      "(0, 1, 4, 9, 16, 25, 36, 49, 64, 81, 100, 121, 144, 169, 196, 225, 256, 289, 324, 361, 400)\n"
     ]
    }
   ],
   "source": [
    "#Q62: Print List (1 to 20, Squares)\n",
    "\n",
    "def tpl_sqr():\n",
    "    tpl=tuple()\n",
    "    for i in range(0,21):\n",
    "        tpl = tpl+(i**2,)\n",
    "    print(tpl)\n",
    "\n",
    "tpl_sqr()"
   ]
  },
  {
   "cell_type": "code",
   "execution_count": 43,
   "id": "38f1525b-aaa4-4d74-ae54-9727033727ba",
   "metadata": {},
   "outputs": [
    {
     "name": "stdout",
     "output_type": "stream",
     "text": [
      "(1, 2, 3, 4, 5) \n",
      " (6, 7, 8, 9, 10)\n"
     ]
    }
   ],
   "source": [
    "#Q67: Tuple Halves\n",
    "\n",
    "tpl=(1,2,3,4,5,6,7,8,9,10)\n",
    "def half_tpl(tpl):\n",
    "    first=tuple()\n",
    "    second=tuple()\n",
    "    mid=len(tpl)//2\n",
    "    for i in tpl:\n",
    "        if i>mid:\n",
    "            second = second+(i,)\n",
    "         \n",
    "        else:\n",
    "            first = first+(i,)\n",
    "    #print(mid)\n",
    "    print(first,'\\n',second)\n",
    "half_tpl(tpl)"
   ]
  },
  {
   "cell_type": "code",
   "execution_count": 45,
   "id": "157a8d2c-5809-406e-865c-39a6692f2055",
   "metadata": {},
   "outputs": [
    {
     "name": "stdout",
     "output_type": "stream",
     "text": [
      "(2, 4, 6, 8, 10)\n"
     ]
    }
   ],
   "source": [
    "#Q68: Even Numbers in a Tuple\n",
    "\n",
    "tpl=(1,2,3,4,5,6,7,8,9,10)\n",
    "def even_tpl(tp):\n",
    "    even_tpls=tuple()\n",
    "    for i in tp:\n",
    "        if i%2==0:\n",
    "            even_tpls += (i,)\n",
    "    print(even_tpls)\n",
    "even_tpl(tpl)\n",
    "    "
   ]
  },
  {
   "cell_type": "code",
   "execution_count": 51,
   "id": "51bb2cb4-fd94-4200-bf81-d8c3858c022a",
   "metadata": {},
   "outputs": [
    {
     "name": "stdout",
     "output_type": "stream",
     "text": [
      "No\n"
     ]
    }
   ],
   "source": [
    "#Q69: Case-Insensitive Yes/No Check\n",
    "\n",
    "def yes_types(str1):\n",
    "    list1=['Yes','YES','yes']\n",
    "    if str1 in list1:\n",
    "        print(str1.title())\n",
    "    else:\n",
    "        print('No')\n",
    "\n",
    "yes_types('no')"
   ]
  },
  {
   "cell_type": "code",
   "execution_count": 52,
   "id": "da5a3f8e-09cd-4c54-86bd-e6a5f6b922c7",
   "metadata": {},
   "outputs": [],
   "source": [
    "#Q70: Sum of String Integers\n",
    "\n",
    "def sum_str(str1,str2):\n",
    "    int1,int2=int(str1),int(str2)\n",
    "    return str(int1+int2)\n",
    "\n",
    "sum"
   ]
  },
  {
   "cell_type": "code",
   "execution_count": null,
   "id": "81671a37-faac-451b-b85f-cbf7414edd02",
   "metadata": {},
   "outputs": [],
   "source": [
    "\n"
   ]
  }
 ],
 "metadata": {
  "kernelspec": {
   "display_name": "Python 3 (ipykernel)",
   "language": "python",
   "name": "python3"
  },
  "language_info": {
   "codemirror_mode": {
    "name": "ipython",
    "version": 3
   },
   "file_extension": ".py",
   "mimetype": "text/x-python",
   "name": "python",
   "nbconvert_exporter": "python",
   "pygments_lexer": "ipython3",
   "version": "3.11.7"
  }
 },
 "nbformat": 4,
 "nbformat_minor": 5
}
